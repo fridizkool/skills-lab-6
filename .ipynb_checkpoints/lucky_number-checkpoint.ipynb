{
 "cells": [
  {
   "cell_type": "code",
   "execution_count": 4,
   "metadata": {},
   "outputs": [
    {
     "name": "stdin",
     "output_type": "stream",
     "text": [
      "What is your name?  al\n",
      "What is your favorite color?  red\n"
     ]
    },
    {
     "name": "stdout",
     "output_type": "stream",
     "text": [
      "Al, your lucky number is 5!\n"
     ]
    }
   ],
   "source": [
    "name = input(\"What is your name? \")\n",
    "color = input(\"What is your favorite color? \")\n",
    "lucky_number = (len(name) + len(color)) % 13\n",
    "print(f\"{name}, your lucky number is {lucky_number}!\")"
   ]
  }
 ],
 "metadata": {
  "kernelspec": {
   "display_name": "Python 3",
   "language": "python",
   "name": "python3"
  },
  "language_info": {
   "codemirror_mode": {
    "name": "ipython",
    "version": 3
   },
   "file_extension": ".py",
   "mimetype": "text/x-python",
   "name": "python",
   "nbconvert_exporter": "python",
   "pygments_lexer": "ipython3",
   "version": "3.8.3"
  }
 },
 "nbformat": 4,
 "nbformat_minor": 4
}
